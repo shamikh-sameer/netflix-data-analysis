{
 "cells": [
  {
   "cell_type": "markdown",
   "id": "11df2f96",
   "metadata": {},
   "source": [
    "### Libraries Used ###"
   ]
  },
  {
   "cell_type": "code",
   "execution_count": 1,
   "id": "964332c3",
   "metadata": {},
   "outputs": [],
   "source": [
    "import pandas as pd\n",
    "import matplotlib.pyplot as plt\n",
    "import seaborn as sns"
   ]
  },
  {
   "cell_type": "markdown",
   "id": "cc04a30f",
   "metadata": {},
   "source": [
    "### Import and Load ###"
   ]
  },
  {
   "cell_type": "code",
   "execution_count": null,
   "id": "3b814577",
   "metadata": {},
   "outputs": [],
   "source": [
    "# Display settings\n",
    "pd.set_option('display.max_columns', None)\n",
    "\n",
    "# Load dataset\n",
    "df = pd.read_csv(\"netflix_titles.csv\")\n",
    "\n",
    "# Quick preview\n",
    "print(df.shape)\n",
    "df.head()"
   ]
  },
  {
   "cell_type": "markdown",
   "id": "f7d64a5f",
   "metadata": {},
   "source": [
    "### Data Cleaning ###"
   ]
  },
  {
   "cell_type": "code",
   "execution_count": 3,
   "id": "c07f0fc8",
   "metadata": {},
   "outputs": [],
   "source": [
    "# Convert date_added to datetime\n",
    "df['date_added'] = pd.to_datetime(df['date_added'], errors='coerce')\n",
    "\n",
    "# Extract year, month from date_added\n",
    "df['year_added'] = df['date_added'].dt.year\n",
    "df['month_added'] = df['date_added'].dt.month\n",
    "\n",
    "# Clean up country column (replace NaN with 'Unknown')\n",
    "df['country'] = df['country'].fillna('Unknown')\n",
    "\n",
    "# Clean duration (separate movies & TV shows)\n",
    "df['duration_int'] = df['duration'].str.extract('(\\d+)').astype(float)\n",
    "df['duration_type'] = df['duration'].str.extract('([a-zA-Z]+)').astype(str)\n",
    "\n",
    "# Fill missing director/cast with placeholder\n",
    "df['director'] = df['director'].fillna('Unknown')\n",
    "df['cast'] = df['cast'].fillna('Unknown')"
   ]
  },
  {
   "cell_type": "markdown",
   "id": "847de829",
   "metadata": {},
   "source": [
    "### Quick Exploratory Analysis ###"
   ]
  },
  {
   "cell_type": "markdown",
   "id": "ea2b4974",
   "metadata": {},
   "source": [
    "#### Number of Titles by Type ####"
   ]
  },
  {
   "cell_type": "code",
   "execution_count": null,
   "id": "a6c00d1e",
   "metadata": {},
   "outputs": [],
   "source": [
    "plt.figure(figsize=(6,4))\n",
    "sns.countplot(data=df, x='type', palette='pastel')\n",
    "plt.title(\"Movies vs. TV Shows on Netflix\")\n",
    "plt.show()"
   ]
  },
  {
   "cell_type": "markdown",
   "id": "b161eebe",
   "metadata": {},
   "source": [
    "#### Titles Added per Year ####"
   ]
  },
  {
   "cell_type": "code",
   "execution_count": null,
   "id": "c14cfda6",
   "metadata": {},
   "outputs": [],
   "source": [
    "plt.figure(figsize=(10,5))\n",
    "df['year_added'].value_counts().sort_index().plot(kind='bar', color='skyblue')\n",
    "plt.title(\"Number of Titles Added to Netflix Each Year\")\n",
    "plt.xlabel(\"Year Added\")\n",
    "plt.ylabel(\"Count\")\n",
    "plt.show()"
   ]
  },
  {
   "cell_type": "markdown",
   "id": "690c7480",
   "metadata": {},
   "source": [
    "#### Top 10 Genres ####"
   ]
  },
  {
   "cell_type": "code",
   "execution_count": null,
   "id": "db3f167e",
   "metadata": {},
   "outputs": [],
   "source": [
    "from collections import Counter\n",
    "\n",
    "all_genres = ','.join(df['listed_in'].dropna()).split(',')\n",
    "genre_counts = Counter([g.strip() for g in all_genres])\n",
    "\n",
    "pd.Series(genre_counts).sort_values(ascending=False).head(10).plot(kind='bar', color='coral')\n",
    "plt.title(\"Top 10 Genres on Netflix\")\n",
    "plt.show()"
   ]
  },
  {
   "cell_type": "markdown",
   "id": "4ff0b20f",
   "metadata": {},
   "source": [
    "#### Top 10 Countries by Titles ####"
   ]
  },
  {
   "cell_type": "code",
   "execution_count": null,
   "id": "2ff37312",
   "metadata": {},
   "outputs": [],
   "source": [
    "df['country'].value_counts().head(10).plot(kind='bar', color='teal')\n",
    "plt.title(\"Top 10 Content-Producing Countries on Netflix\")\n",
    "plt.show()"
   ]
  },
  {
   "cell_type": "markdown",
   "id": "afcafe9c",
   "metadata": {},
   "source": []
  }
 ],
 "metadata": {
  "kernelspec": {
   "display_name": "Python 3",
   "language": "python",
   "name": "python3"
  },
  "language_info": {
   "codemirror_mode": {
    "name": "ipython",
    "version": 3
   },
   "file_extension": ".py",
   "mimetype": "text/x-python",
   "name": "python",
   "nbconvert_exporter": "python",
   "pygments_lexer": "ipython3",
   "version": "3.11.0"
  }
 },
 "nbformat": 4,
 "nbformat_minor": 5
}
